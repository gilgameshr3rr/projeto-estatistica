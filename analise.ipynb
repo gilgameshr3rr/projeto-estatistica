{
 "cells": [
  {
   "cell_type": "markdown",
   "id": "fd2ec2bf",
   "metadata": {},
   "source": [
    "# 🎮 Análise do Dataset Video Game Sales 2024\n",
    "Este notebook importa o dataset diretamente do GitHub e realiza a classificação das variáveis."
   ]
  },
  {
   "cell_type": "code",
   "execution_count": null,
   "id": "f9a86d34",
   "metadata": {},
   "outputs": [],
   "source": [
    "import pandas as pd\n",
    "\n",
    "# 🔗 Lê o CSV diretamente do GitHub (formato raw)\n",
    "url = 'https://raw.githubusercontent.com/gilgameshr3rr/projeto-template-estatistica/project-edition-larissa/dados/vgchartz-2024.csv'\n",
    "df = pd.read_csv(url) \n",
    "df.head()"
   ]
  },
  {
   "cell_type": "code",
   "execution_count": null,
   "id": "8d462e82",
   "metadata": {},
   "outputs": [],
   "source": [
    "# Número total de registros e variáveis\n",
    "num_linhas, num_colunas = df.shape\n",
    "print(f\"Total de registros (linhas): {num_linhas}\")\n",
    "print(f\"Total de variáveis (colunas): {num_colunas}\")"
   ]
  },
  {
   "cell_type": "code",
   "execution_count": null,
   "id": "1c5dee25",
   "metadata": {},
   "outputs": [],
   "source": [
    "# Classificação de variáveis\n",
    "quantitativas = []\n",
    "qualitativas = []\n",
    "\n",
    "for coluna in df.columns:\n",
    "    if pd.api.types.is_numeric_dtype(df[coluna]):\n",
    "        quantitativas.append(coluna)\n",
    "    else:\n",
    "        qualitativas.append(coluna)\n",
    "\n",
    "print(\"\\nVariáveis quantitativas:\")\n",
    "print(quantitativas)\n",
    "\n",
    "print(\"\\nVariáveis qualitativas:\")\n",
    "print(qualitativas)"
   ]
  },
  {
   "cell_type": "code",
   "execution_count": null,
   "id": "73519fd1",
   "metadata": {},
   "outputs": [],
   "source": [
    "# Tabela resumo\n",
    "resumo = pd.DataFrame({\n",
    "    'Variável': quantitativas + qualitativas,\n",
    "    'Tipo': ['Quantitativa'] * len(quantitativas) + ['Qualitativa'] * len(qualitativas)\n",
    "})\n",
    "\n",
    "print(\"\\nTabela resumo das variáveis:\")\n",
    "print(resumo)"
   ]
  }
 ],
 "metadata": {
  "language_info": {
   "name": "python"
  }
 },
 "nbformat": 4,
 "nbformat_minor": 5
}
