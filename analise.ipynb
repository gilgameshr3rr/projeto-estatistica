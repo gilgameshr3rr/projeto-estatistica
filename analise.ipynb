{
 "cells": [
  {
   "cell_type": "markdown",
   "id": "fd2ec2bf",
   "metadata": {},
   "source": [
    "# 🎮 Análise do Dataset Video Game Sales 2024\n",
    "Este notebook reúne etapas de exploração, organização e análise estatística do conjunto de dados sobre vendas globais de jogos de videogame até 2024."
   ]
  },
  {
   "cell_type": "code",
   "execution_count": null,
   "id": "f9a86d34",
   "metadata": {},
   "outputs": [],
   "source": [
    "import pandas as pd\n",
    "\n",
    "# 🔗 Lê o CSV diretamente do GitHub (formato raw)\n",
    "url = 'https://raw.githubusercontent.com/gilgameshr3rr/projeto-template-estatistica/project-edition-larissa/dados/vgchartz-2024.csv'\n",
    "df = pd.read_csv(url) \n",
    "df.head()"
   ]
  },
  {
   "cell_type": "code",
   "execution_count": null,
   "id": "8d462e82",
   "metadata": {},
   "outputs": [],
   "source": [
    "import pandas as pd\n",
    "\n",
    "# Número total de registros (linhas) e variáveis (colunas)\n",
    "num_linhas, num_colunas = df.shape\n",
    "\n",
    "# Criar uma pequena tabela com pandas\n",
    "resumo_tamanho = pd.DataFrame({\n",
    "    'Descrição': ['Total de registros (linhas)', 'Total de variáveis (colunas)'],\n",
    "    'Quantidade': [num_linhas, num_colunas]\n",
    "})\n",
    "\n",
    "resumo_tamanho"
   ]
  },
  {
   "cell_type": "code",
   "execution_count": null,
   "id": "1c5dee25",
   "metadata": {},
   "outputs": [],
   "source": [
    "# Classificação de variáveis\n",
    "quantitativas = []\n",
    "qualitativas = []\n",
    "\n",
    "for coluna in df.columns:\n",
    "    if pd.api.types.is_numeric_dtype(df[coluna]):\n",
    "        quantitativas.append(coluna)\n",
    "    else:\n",
    "        qualitativas.append(coluna)\n",
    "\n",
    "# Criar tabela com o tipo associado a cada variável\n",
    "tabela_variaveis = pd.DataFrame({\n",
    "    'Variável': quantitativas + qualitativas,\n",
    "    'Tipo': ['Quantitativa'] * len(quantitativas) + ['Qualitativa'] * len(qualitativas)\n",
    "})\n",
    "\n",
    "# Exibir tabela\n",
    "tabela_variaveis"
   ]
  },
  {
   "cell_type": "code",
   "execution_count": null,
   "id": "73519fd1",
   "metadata": {},
   "outputs": [],
   "source": [
    "# Tabela resumo das variáveis\n",
    "resumo = pd.DataFrame({\n",
    "    'Variável': quantitativas + qualitativas,\n",
    "    'Tipo': ['Quantitativa'] * len(quantitativas) + ['Qualitativa'] * len(qualitativas)\n",
    "})\n",
    "\n",
    "# Exibe a tabela \n",
    "resumo\n"
   ]
  }
 ],
 "metadata": {
  "language_info": {
   "name": "python"
  }
 },
 "nbformat": 4,
 "nbformat_minor": 5
}
